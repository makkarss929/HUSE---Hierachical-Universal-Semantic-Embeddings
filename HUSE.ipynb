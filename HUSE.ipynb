{
 "cells": [
  {
   "cell_type": "markdown",
   "metadata": {},
   "source": [
    "``PROBLEM STATEMENT:``\n",
    "========\n",
    "* Implementing ``HUSE`` (Hierarchical Universal Semantic Embeddings)"
   ]
  },
  {
   "cell_type": "markdown",
   "metadata": {},
   "source": [
    "## ``Technology used:``\n",
    "* Pytorch"
   ]
  },
  {
   "cell_type": "markdown",
   "metadata": {},
   "source": [
    "``PART 1:``\n",
    "===================================================\n",
    "Image Embeddings Input Model (10 points)\n",
    "---------------------------------------------\n",
    "\n",
    "You are free to use any pretrained image model for representing raw images into embedding space. Image embedding created from this part of the model are forwarded into the image tower for further processing. Here you will be tested on your skills to use transfer learning and image augmentation.\n",
    "\n",
    "Text  Embeddings Input Model (10 points)\n",
    "-------------------------------------------\n",
    "\n",
    "You are free to use any pretrained text model for representing text into embedding space. Text embedding created from this part of the model are forwarded into the text tower for further processing. Here you will be tested on your skills to use transfer learning and text preprocessing.\n",
    "\n",
    "\n",
    "``PART 2:``\n",
    "==============================================================\n",
    "Image Tower Model (10 points)\n",
    "-------------------------------------------\n",
    "It consists of sequence of dense and activation layers, for exact model description refer section 4 of the paper under the name Experiments . The final L2-normalized output is sent to a shared fully connected layer. You are required to build this part as it is, taking its input from image pretrained model of PART1.\n",
    "\n",
    "\n",
    "Text Tower Model (10 points)\n",
    "----------------------------------------\n",
    "It consists of sequence of dense and activation layers, for exact model description refer section 4 of the paper under the name Experiments . The final L2-normalized output is sent to a shared fully connected layer. You are required to build this part as it is, taking its input from text pretrained model of PART1.\n",
    "\n",
    "``Part 3``\n",
    "================\n",
    "Class Level Similarity (10 points)\n",
    "-------------------------------\n",
    "HUSE passes the embeddings from image tower and text tower through a shared fully connected layer and the model is trained using softmax cross entropy loss.\n",
    "\n",
    "Semantic Similarity (30 points)\n",
    "---------------------------\n",
    "\n",
    "You are required to create a semantic graph, which consists of Adjacency matrix which is nothing but matrix of cosine distance between the textl embedding representation of individual classes. Such that if you have 5 unique classes, your adjacency matrix will be a 5x5 matrix consisting of cosine distance of text embedding of one class name with all other classes names. This matrix is used in calculating Semantic Similarity loss.\n",
    "\n",
    "Cross Modal Gap (20 points)\n",
    "----------------------------------------\n",
    "\n",
    "You required to create a cross modal gap loss, which is the distance between image and text embeddings corresponding to the same product instance."
   ]
  },
  {
   "cell_type": "markdown",
   "metadata": {},
   "source": [
    "#### Importing ``Libraries``"
   ]
  },
  {
   "cell_type": "code",
   "execution_count": 1,
   "metadata": {},
   "outputs": [],
   "source": [
    "from __future__ import print_function, division\n",
    "\n",
    "import torch\n",
    "import torch.nn as nn\n",
    "import torch.optim as optim\n",
    "from torch.optim import lr_scheduler\n",
    "import numpy as np\n",
    "import torchvision\n",
    "from torchvision import datasets, models, transforms\n",
    "import matplotlib.pyplot as plt\n",
    "import time\n",
    "import os\n",
    "import copy\n",
    "\n",
    "plt.ion()   # interactive mode\n",
    "\n",
    "import pandas as pd\n",
    "from skimage import io, transform\n",
    "from torch.utils.data import Dataset, DataLoader\n",
    "\n",
    "# For image embeddings\n",
    "from img2vec_pytorch import Img2Vec\n",
    "from PIL import Image\n",
    "\n",
    "import tqdm\n",
    "import re\n",
    "from scipy.spatial.distance import cosine\n",
    "from itertools import product\n",
    "\n",
    "import numpy as np\n",
    "import pandas as pd"
   ]
  },
  {
   "cell_type": "markdown",
   "metadata": {},
   "source": [
    "### ``Data Overview``\n",
    "* Creating a class ``ImageClassesDataset`` to load dataset\n",
    "\n",
    "### ``References:``\n",
    "* https://pytorch.org/tutorials/beginner/data_loading_tutorial.html"
   ]
  },
  {
   "cell_type": "code",
   "execution_count": 3,
   "metadata": {},
   "outputs": [
    {
     "name": "stdout",
     "output_type": "stream",
     "text": [
      "Image name: 5da81f696504fb65d41c583d_0.jpg\n",
      "Description: Charlotte Tilbury  Hollywood Lips Matte Contour Liquid Lipstick – Show Girl  \n",
      "Classes: beauty<makeup<lipstick\n"
     ]
    }
   ],
   "source": [
    "# importing data\n",
    "training = pd.read_csv('training.csv')\n",
    "\n",
    "# Showing 65th row image_name , description, classes in data\n",
    "n = 65\n",
    "img_name = training.iloc[n, 0]\n",
    "name = training.iloc[n, 1]\n",
    "classes = training.iloc[n, 2]\n",
    "\n",
    "print('Image name: {}'.format(img_name))\n",
    "print('Description: {}'.format(name))\n",
    "print('Classes: {}'.format(classes))"
   ]
  },
  {
   "cell_type": "code",
   "execution_count": 4,
   "metadata": {},
   "outputs": [
    {
     "data": {
      "image/png": "[encoded data removed]",
      "text/plain": [
       "<Figure size 432x288 with 1 Axes>"
      ]
     },
     "metadata": {
      "needs_background": "light"
     },
     "output_type": "display_data"
    },
    {
     "name": "stdout",
     "output_type": "stream",
     "text": [
      "Description: Charlotte Tilbury  Hollywood Lips Matte Contour Liquid Lipstick – Show Girl  \n",
      "Classes: beauty<makeup<lipstick\n"
     ]
    }
   ],
   "source": [
    "# Showing image of 65th data point\n",
    "\n",
    "def show_classes(image,name,classes):\n",
    "    \"\"\"Show image with landmarks\"\"\"\n",
    "    plt.imshow(image)\n",
    "    plt.show()\n",
    "    print('Description: {}'.format(name))\n",
    "    print('Classes: {}'.format(classes))\n",
    "\n",
    "plt.figure()\n",
    "\n",
    "show_classes(io.imread(os.path.join('images/', img_name)),name,\n",
    "               classes)"
   ]
  },
  {
   "cell_type": "code",
   "execution_count": 5,
   "metadata": {},
   "outputs": [],
   "source": [
    "class ImageClassesDataset(Dataset):\n",
    "    \"\"\"Imageclasses dataset.\"\"\"\n",
    "\n",
    "    def __init__(self, csv_file, root_dir, transform=None):\n",
    "        \"\"\"\n",
    "        Args:\n",
    "            csv_file (string): Path to the csv file with annotations.\n",
    "            root_dir (string): Directory with all the images.\n",
    "            transform (callable, optional): Optional transform to be applied\n",
    "                on a sample.\n",
    "        \"\"\"\n",
    "        self.training = pd.read_csv(csv_file)\n",
    "        self.root_dir = root_dir\n",
    "        self.transform = transform\n",
    "\n",
    "    def __len__(self):\n",
    "        return len(self.training)\n",
    "\n",
    "    def __getitem__(self, idx):\n",
    "        if torch.is_tensor(idx):\n",
    "            idx = idx.tolist()\n",
    "\n",
    "        img_name = os.path.join(self.root_dir,\n",
    "                                self.training.iloc[idx, 0])\n",
    "        image = io.imread(img_name)\n",
    "        name = self.training.iloc[idx, 1]\n",
    "        classes = self.training.iloc[idx,2]\n",
    "        sample = {'image': image, 'name': name,'classes':classes}\n",
    "\n",
    "        if self.transform:\n",
    "            sample = self.transform(sample)\n",
    "\n",
    "        return sample"
   ]
  },
  {
   "cell_type": "markdown",
   "metadata": {},
   "source": [
    "``Intializing`` Class and representing few data points"
   ]
  },
  {
   "cell_type": "code",
   "execution_count": 6,
   "metadata": {},
   "outputs": [
    {
     "name": "stdout",
     "output_type": "stream",
     "text": [
      "0 (400, 400, 3)\n"
     ]
    },
    {
     "data": {
      "image/png": "[encoded data removed]",
      "text/plain": [
       "<Figure size 432x288 with 1 Axes>"
      ]
     },
     "metadata": {
      "needs_background": "light"
     },
     "output_type": "display_data"
    },
    {
     "name": "stdout",
     "output_type": "stream",
     "text": [
      "Description: Marc Jacobs Beauty  Eye-Conic Longwear Eyeshadow Palette - Scandalust 740  \n",
      "Classes: beauty<makeup<eyeshadow\n",
      "1 (400, 400, 3)\n"
     ]
    },
    {
     "data": {
      "image/png": "[encoded data removed]",
      "text/plain": [
       "<Figure size 432x288 with 1 Axes>"
      ]
     },
     "metadata": {
      "needs_background": "light"
     },
     "output_type": "display_data"
    },
    {
     "name": "stdout",
     "output_type": "stream",
     "text": [
      "Description: Marc Jacobs Beauty  Eye-Conic Longwear Eyeshadow Palette - Provocouture 710  \n",
      "Classes: beauty<makeup<eyeshadow\n",
      "2 (400, 400, 3)\n"
     ]
    },
    {
     "data": {
      "image/png": "[encoded data removed]",
      "text/plain": [
       "<Figure size 432x288 with 1 Axes>"
      ]
     },
     "metadata": {
      "needs_background": "light"
     },
     "output_type": "display_data"
    },
    {
     "name": "stdout",
     "output_type": "stream",
     "text": [
      "Description: Prada  Wool sweater   \n",
      "Classes: clothing<knitwear<fine knit\n",
      "3 (400, 400, 3)\n"
     ]
    },
    {
     "data": {
      "image/png": "[encoded data removed]",
      "text/plain": [
       "<Figure size 432x288 with 1 Axes>"
      ]
     },
     "metadata": {
      "needs_background": "light"
     },
     "output_type": "display_data"
    },
    {
     "name": "stdout",
     "output_type": "stream",
     "text": [
      "Description: Prada  Printed silk-satin twill straight-leg pants  \n",
      "Classes: clothing<pants<straight leg\n"
     ]
    }
   ],
   "source": [
    "image_dataset = ImageClassesDataset(csv_file='training.csv',\n",
    "                                    root_dir='images')\n",
    "\n",
    "fig = plt.figure()\n",
    "\n",
    "for i in range(4):\n",
    "    sample = image_dataset[i]\n",
    "\n",
    "    print(i, sample['image'].shape)\n",
    "\n",
    "    ax = plt.subplot(1, 4, i + 1)\n",
    "    plt.tight_layout()\n",
    "    ax.set_title('Sample #{}'.format(i))\n",
    "    ax.axis('off')\n",
    "    show_classes(**sample)\n",
    "\n",
    "    if i == 3:\n",
    "        plt.show()\n",
    "        break"
   ]
  },
  {
   "cell_type": "markdown",
   "metadata": {},
   "source": [
    "## ``Part 1 (a)`` Data Augmentation:\n",
    "* ``Recaling`` of image\n",
    "* ``Random Crop`` of image\n",
    "* ``Normalization`` of image with ``mean : `` [0.485, 0.456, 0.406], ``std : `` [0.229, 0.224, 0.225]\n",
    "\n",
    "### `` References:``\n",
    "* https://pytorch.org/tutorials/beginner/data_loading_tutorial.html#transforms"
   ]
  },
  {
   "cell_type": "code",
   "execution_count": 7,
   "metadata": {},
   "outputs": [],
   "source": [
    "class Rescale(object):\n",
    "    \"\"\"Rescale the image in a sample to a given size.\n",
    "\n",
    "    Args:\n",
    "        output_size (tuple or int): Desired output size. If tuple, output is\n",
    "            matched to output_size. If int, smaller of image edges is matched\n",
    "            to output_size keeping aspect ratio the same.\n",
    "    \"\"\"\n",
    "\n",
    "    def __init__(self, output_size):\n",
    "        assert isinstance(output_size, (int, tuple))\n",
    "        self.output_size = output_size\n",
    "\n",
    "    def __call__(self, sample):\n",
    "        image,name,classes = sample['image'],sample['name'],sample['classes']\n",
    "\n",
    "        h, w = image.shape[:2]\n",
    "        if isinstance(self.output_size, int):\n",
    "            if h > w:\n",
    "                new_h, new_w = self.output_size * h / w, self.output_size\n",
    "            else:\n",
    "                new_h, new_w = self.output_size, self.output_size * w / h\n",
    "        else:\n",
    "            new_h, new_w = self.output_size\n",
    "\n",
    "        new_h, new_w = int(new_h), int(new_w)\n",
    "\n",
    "        img = transform.resize(image, (new_h, new_w))\n",
    "\n",
    "        # h and w are swapped for landmarks because for images,\n",
    "        # x and y axes are axis 1 and 0 respectively\n",
    "        # landmarks = landmarks * [new_w / w, new_h / h]\n",
    "\n",
    "        return {'image': img,'name':name ,'classes': classes}\n",
    "\n",
    "\n",
    "class RandomCrop(object):\n",
    "    \"\"\"Crop randomly the image in a sample.\n",
    "\n",
    "    Args:\n",
    "        output_size (tuple or int): Desired output size. If int, square crop\n",
    "            is made.\n",
    "    \"\"\"\n",
    "\n",
    "    def __init__(self, output_size):\n",
    "        assert isinstance(output_size, (int, tuple))\n",
    "        if isinstance(output_size, int):\n",
    "            self.output_size = (output_size, output_size)\n",
    "        else:\n",
    "            assert len(output_size) == 2\n",
    "            self.output_size = output_size\n",
    "\n",
    "    def __call__(self, sample):\n",
    "        image,name,classes = sample['image'],sample['name'],sample['classes']\n",
    "\n",
    "        h, w = image.shape[:2]\n",
    "        new_h, new_w = self.output_size\n",
    "\n",
    "        top = np.random.randint(0, h - new_h)\n",
    "        left = np.random.randint(0, w - new_w)\n",
    "\n",
    "        image = image[top: top + new_h,\n",
    "                      left: left + new_w]\n",
    "\n",
    "        #landmarks = landmarks - [left, top]\n",
    "\n",
    "        return {'image': image,'name':name ,'classes': classes}\n",
    "\n",
    "\n",
    "class ToTensor(object):\n",
    "    \"\"\"Convert ndarrays in sample to Tensors.\"\"\"\n",
    "\n",
    "    def __call__(self, sample):\n",
    "        image,name,classes = sample['image'],sample['name'],sample['classes']\n",
    "\n",
    "        # swap color axis because\n",
    "        # numpy image: H x W x C\n",
    "        # torch image: C X H X W\n",
    "        image = image.transpose((2, 0, 1))\n",
    "        return {'image': torch.from_numpy(image),'name' :name ,'classes': classes}"
   ]
  },
  {
   "cell_type": "markdown",
   "metadata": {},
   "source": [
    "Showing ``example`` on ``65th datapoint``"
   ]
  },
  {
   "cell_type": "code",
   "execution_count": 8,
   "metadata": {},
   "outputs": [
    {
     "data": {
      "image/png": "[encoded data removed]",
      "text/plain": [
       "<Figure size 432x288 with 1 Axes>"
      ]
     },
     "metadata": {
      "needs_background": "light"
     },
     "output_type": "display_data"
    },
    {
     "name": "stdout",
     "output_type": "stream",
     "text": [
      "Description: Charlotte Tilbury  Hollywood Lips Matte Contour Liquid Lipstick – Show Girl  \n",
      "Classes: beauty<makeup<lipstick\n"
     ]
    },
    {
     "data": {
      "image/png": "[encoded data removed]",
      "text/plain": [
       "<Figure size 432x288 with 1 Axes>"
      ]
     },
     "metadata": {
      "needs_background": "light"
     },
     "output_type": "display_data"
    },
    {
     "name": "stdout",
     "output_type": "stream",
     "text": [
      "Description: Charlotte Tilbury  Hollywood Lips Matte Contour Liquid Lipstick – Show Girl  \n",
      "Classes: beauty<makeup<lipstick\n"
     ]
    },
    {
     "data": {
      "image/png": "[encoded data removed]",
      "text/plain": [
       "<Figure size 432x288 with 1 Axes>"
      ]
     },
     "metadata": {
      "needs_background": "light"
     },
     "output_type": "display_data"
    },
    {
     "name": "stdout",
     "output_type": "stream",
     "text": [
      "Description: Charlotte Tilbury  Hollywood Lips Matte Contour Liquid Lipstick – Show Girl  \n",
      "Classes: beauty<makeup<lipstick\n"
     ]
    }
   ],
   "source": [
    "scale = Rescale(256)\n",
    "crop = RandomCrop(128)\n",
    "composed = transforms.Compose([Rescale(256),\n",
    "                               RandomCrop(224)])\n",
    "\n",
    "# Apply each of the above transforms on sample.\n",
    "fig = plt.figure()\n",
    "sample = image_dataset[65]\n",
    "for i, tsfrm in enumerate([scale, crop, composed]):\n",
    "    transformed_sample = tsfrm(sample)\n",
    "\n",
    "    ax = plt.subplot(1, 3, i + 1)\n",
    "    plt.tight_layout()\n",
    "    ax.set_title(type(tsfrm).__name__)\n",
    "    show_classes(**transformed_sample)\n",
    "\n",
    "plt.show()"
   ]
  },
  {
   "cell_type": "code",
   "execution_count": 9,
   "metadata": {},
   "outputs": [
    {
     "name": "stdout",
     "output_type": "stream",
     "text": [
      "0 torch.Size([3, 224, 224]) beauty<makeup<eyeshadow\n",
      "1 torch.Size([3, 224, 224]) beauty<makeup<eyeshadow\n",
      "2 torch.Size([3, 224, 224]) clothing<knitwear<fine knit\n",
      "3 torch.Size([3, 224, 224]) clothing<pants<straight leg\n"
     ]
    }
   ],
   "source": [
    "transformed_dataset = ImageClassesDataset(csv_file='training.csv',\n",
    "                                           root_dir='images',\n",
    "                                           transform=transforms.Compose([\n",
    "                                               Rescale(256),\n",
    "                                               RandomCrop(224),\n",
    "                                               ToTensor()\n",
    "                                           ]))\n",
    "\n",
    "for i in range(len(transformed_dataset)):\n",
    "    sample = transformed_dataset[i]\n",
    "\n",
    "    print(i, sample['image'].size(), sample['classes'])\n",
    "\n",
    "    if i == 3:\n",
    "        break"
   ]
  },
  {
   "cell_type": "code",
   "execution_count": 10,
   "metadata": {},
   "outputs": [
    {
     "data": {
      "text/plain": [
       "{'image': tensor([[[0.9529, 0.9529, 0.9529,  ..., 0.9529, 0.9529, 0.9529],\n",
       "          [0.9529, 0.9529, 0.9529,  ..., 0.9529, 0.9529, 0.9529],\n",
       "          [0.9529, 0.9529, 0.9529,  ..., 0.9529, 0.9529, 0.9529],\n",
       "          ...,\n",
       "          [0.9529, 0.9529, 0.9529,  ..., 0.9529, 0.9529, 0.9529],\n",
       "          [0.9529, 0.9529, 0.9529,  ..., 0.9529, 0.9529, 0.9529],\n",
       "          [0.9529, 0.9529, 0.9529,  ..., 0.9529, 0.9529, 0.9529]],\n",
       " \n",
       "         [[0.9490, 0.9490, 0.9490,  ..., 0.9490, 0.9490, 0.9490],\n",
       "          [0.9490, 0.9490, 0.9490,  ..., 0.9490, 0.9490, 0.9490],\n",
       "          [0.9490, 0.9490, 0.9490,  ..., 0.9490, 0.9490, 0.9490],\n",
       "          ...,\n",
       "          [0.9490, 0.9490, 0.9490,  ..., 0.9490, 0.9490, 0.9490],\n",
       "          [0.9490, 0.9490, 0.9490,  ..., 0.9490, 0.9490, 0.9490],\n",
       "          [0.9490, 0.9490, 0.9490,  ..., 0.9490, 0.9490, 0.9490]],\n",
       " \n",
       "         [[0.9333, 0.9333, 0.9333,  ..., 0.9333, 0.9333, 0.9333],\n",
       "          [0.9333, 0.9333, 0.9333,  ..., 0.9333, 0.9333, 0.9333],\n",
       "          [0.9333, 0.9333, 0.9333,  ..., 0.9333, 0.9333, 0.9333],\n",
       "          ...,\n",
       "          [0.9333, 0.9333, 0.9333,  ..., 0.9333, 0.9333, 0.9333],\n",
       "          [0.9333, 0.9333, 0.9333,  ..., 0.9333, 0.9333, 0.9333],\n",
       "          [0.9333, 0.9333, 0.9333,  ..., 0.9333, 0.9333, 0.9333]]],\n",
       "        dtype=torch.float64),\n",
       " 'name': 'Charlotte Tilbury  Hollywood Lips Matte Contour Liquid Lipstick – Show Girl  ',\n",
       " 'classes': 'beauty<makeup<lipstick'}"
      ]
     },
     "execution_count": 10,
     "metadata": {},
     "output_type": "execute_result"
    }
   ],
   "source": [
    "transformed_dataset[65]"
   ]
  },
  {
   "cell_type": "markdown",
   "metadata": {},
   "source": [
    "``Part 1(a):`` Image Embeddings\n",
    "-------------------------------------------\n",
    "\n",
    "* Using ``resnet-18`` for image embeddings\n",
    "* Returns a vector of length 512\n",
    "\n",
    "### `` References :``\n",
    "* https://github.com/christiansafka/img2vec\n"
   ]
  },
  {
   "cell_type": "markdown",
   "metadata": {},
   "source": [
    "Showing a ``example``"
   ]
  },
  {
   "cell_type": "code",
   "execution_count": 11,
   "metadata": {},
   "outputs": [
    {
     "name": "stderr",
     "output_type": "stream",
     "text": [
      "C:\\Users\\Tarun Makkar\\Anaconda3\\envs\\keras-gpu\\lib\\site-packages\\torchvision\\transforms\\transforms.py:219: UserWarning: The use of the transforms.Scale transform is deprecated, please use transforms.Resize instead.\n",
      "  warnings.warn(\"The use of the transforms.Scale transform is deprecated, \" +\n"
     ]
    }
   ],
   "source": [
    "# Initialize Img2Vec with GPU\n",
    "img2vec = Img2Vec(cuda=True)\n",
    "\n",
    "# Read in an image\n",
    "img = Image.open('images/5da816f86504fb65cea6fed6_0.jpg')\n",
    "# Get a vector from img2vec, returned as a torch FloatTensor\n",
    "vec = img2vec.get_vec(img, tensor=False)\n",
    "# Or submit a list\n",
    "# vectors = img2vec.get_vec(list_of_PIL_images)"
   ]
  },
  {
   "cell_type": "code",
   "execution_count": 12,
   "metadata": {},
   "outputs": [
    {
     "data": {
      "text/plain": [
       "(512,)"
      ]
     },
     "execution_count": 12,
     "metadata": {},
     "output_type": "execute_result"
    }
   ],
   "source": [
    "vec.shape"
   ]
  },
  {
   "cell_type": "markdown",
   "metadata": {},
   "source": [
    "Below code take ``2 hrs`` , So running it once and saving it to ``numpy file``\n",
    "\n"
   ]
  },
  {
   "cell_type": "code",
   "execution_count": null,
   "metadata": {},
   "outputs": [],
   "source": [
    "image_embeddings = []\n",
    "for image in tqdm.tqdm(os.listdir('images')):\n",
    "    img = Image.open('images'+'/'+image)\n",
    "    vec = img2vec.get_vec(img, tensor=False)\n",
    "    image_embeddings.append(vec)"
   ]
  },
  {
   "cell_type": "code",
   "execution_count": null,
   "metadata": {},
   "outputs": [],
   "source": [
    "np.save('image_embeddings.npy', image_embeddings, allow_pickle=True)"
   ]
  },
  {
   "cell_type": "code",
   "execution_count": 13,
   "metadata": {},
   "outputs": [],
   "source": [
    "image_embeddings = np.load('image_embeddings.npy', allow_pickle=True)"
   ]
  },
  {
   "cell_type": "markdown",
   "metadata": {},
   "source": [
    "``Part 1(b):`` Text Preprocessing\n",
    "---------------------------------------------\n",
    "\n",
    "* Preprocessing ``name`` feature\n",
    "* Preprocessing includes: \n",
    "            * Removing spacial character,\n",
    "            * removing stopwords\n",
    "            * Coverting all characters into lowercase\n"
   ]
  },
  {
   "cell_type": "code",
   "execution_count": 20,
   "metadata": {},
   "outputs": [],
   "source": [
    "training = pd.read_csv('training.csv')"
   ]
  },
  {
   "cell_type": "code",
   "execution_count": 21,
   "metadata": {},
   "outputs": [
    {
     "name": "stdout",
     "output_type": "stream",
     "text": [
      "Charlotte Tilbury  Hollywood Lips Matte Contour Liquid Lipstick – Show Girl  \n"
     ]
    }
   ],
   "source": [
    "print(training['name'][65])"
   ]
  },
  {
   "cell_type": "code",
   "execution_count": 22,
   "metadata": {},
   "outputs": [],
   "source": [
    "sent = training['name'][65]"
   ]
  },
  {
   "cell_type": "code",
   "execution_count": 23,
   "metadata": {},
   "outputs": [
    {
     "name": "stdout",
     "output_type": "stream",
     "text": [
      "Charlotte Tilbury Hollywood Lips Matte Contour Liquid Lipstick Show Girl \n"
     ]
    }
   ],
   "source": [
    "#remove spacial character: https://stackoverflow.com/a/5843547/4084039\n",
    "sent = re.sub('[^A-Za-z0-9]+', ' ', sent)\n",
    "sent = re.sub(r'[0-9]+',' ',sent)\n",
    "print(sent)"
   ]
  },
  {
   "cell_type": "code",
   "execution_count": 24,
   "metadata": {},
   "outputs": [],
   "source": [
    "# https://gist.github.com/sebleier/554280\n",
    "# we are removing the words from the stop words list: 'no', 'nor', 'not'\n",
    "stopwords= ['i', 'me', 'my', 'myself', 'we', 'our', 'ours', 'ourselves', 'you', \"you're\", \"you've\",\\\n",
    "            \"you'll\", \"you'd\", 'your', 'yours', 'yourself', 'yourselves', 'he', 'him', 'his', 'himself', \\\n",
    "            'she', \"she's\", 'her', 'hers', 'herself', 'it', \"it's\", 'its', 'itself', 'they', 'them', 'their',\\\n",
    "            'theirs', 'themselves', 'what', 'which', 'who', 'whom', 'this', 'that', \"that'll\", 'these', 'those', \\\n",
    "            'am', 'is', 'are', 'was', 'were', 'be', 'been', 'being', 'have', 'has', 'had', 'having', 'do', 'does', \\\n",
    "            'did', 'doing', 'a', 'an', 'the', 'and', 'but', 'if', 'or', 'because', 'as', 'until', 'while', 'of', \\\n",
    "            'at', 'by', 'for', 'with', 'about', 'against', 'between', 'into', 'through', 'during', 'before', 'after',\\\n",
    "            'above', 'below', 'to', 'from', 'up', 'down', 'in', 'out', 'on', 'off', 'over', 'under', 'again', 'further',\\\n",
    "            'then', 'once', 'here', 'there', 'when', 'where', 'why', 'how', 'all', 'any', 'both', 'each', 'few', 'more',\\\n",
    "            'most', 'other', 'some', 'such', 'only', 'own', 'same', 'so', 'than', 'too', 'very', \\\n",
    "            's', 't', 'can', 'will', 'just', 'don', \"don't\", 'should', \"should've\", 'now', 'd', 'll', 'm', 'o', 're', \\\n",
    "            've', 'y', 'ain', 'aren', \"aren't\", 'couldn', \"couldn't\", 'didn', \"didn't\", 'doesn', \"doesn't\", 'hadn',\\\n",
    "            \"hadn't\", 'hasn', \"hasn't\", 'haven', \"haven't\", 'isn', \"isn't\", 'ma', 'mightn', \"mightn't\", 'mustn',\\\n",
    "            \"mustn't\", 'needn', \"needn't\", 'shan', \"shan't\", 'shouldn', \"shouldn't\", 'wasn', \"wasn't\", 'weren', \"weren't\", \\\n",
    "            'won', \"won't\", 'wouldn', \"wouldn't\"]"
   ]
  },
  {
   "cell_type": "code",
   "execution_count": 25,
   "metadata": {},
   "outputs": [],
   "source": [
    "from tqdm import tqdm"
   ]
  },
  {
   "cell_type": "code",
   "execution_count": 26,
   "metadata": {
    "scrolled": true
   },
   "outputs": [
    {
     "name": "stderr",
     "output_type": "stream",
     "text": [
      "100%|█████████████████████████████████████████████████████████████████████████| 65714/65714 [00:02<00:00, 31923.37it/s]\n"
     ]
    }
   ],
   "source": [
    "\"\"\"Preprocessing Step\"\"\"\n",
    "\n",
    "preprocessed_names = []\n",
    "# tqdm is for printing the status bar\n",
    "for i in tqdm(range(len(training))):\n",
    "    sent = training['name'][i]\n",
    "    sent = re.sub('[^A-Za-z0-9]+', ' ', sent)\n",
    "    sent = re.sub(r'[0-9]+',' ',sent)\n",
    "    # https://gist.github.com/sebleier/554280\n",
    "    sent = ' '.join(e for e in sent.split() if e not in stopwords)\n",
    "    preprocessed_names.append(sent.lower().strip())"
   ]
  },
  {
   "cell_type": "code",
   "execution_count": 27,
   "metadata": {},
   "outputs": [
    {
     "data": {
      "text/plain": [
       "'charlotte tilbury hollywood lips matte contour liquid lipstick show girl'"
      ]
     },
     "execution_count": 27,
     "metadata": {},
     "output_type": "execute_result"
    }
   ],
   "source": [
    "preprocessed_names[65]"
   ]
  },
  {
   "cell_type": "markdown",
   "metadata": {},
   "source": [
    "``Part 1(b):`` Text Embeddings\n",
    "-------------------------------------------\n",
    "\n",
    "* Downloading ``glove.840B.300d.txt`` from https://nlp.stanford.edu/projects/glove/\n",
    "* Converting ``glove`` file to ``word2vec`` format\n",
    "* Loading word2vec model using ``gensim``\n",
    "* Using ``Stanford gloVe`` i.e a pretrained model\n",
    "* And encoding ``name``feature with ``TFIDF weighted-word2vec``\n",
    "* Saving embeddings to numpy file\n",
    "\n",
    "``TFIDF`` weighted-word2vec\n",
    "---\n",
    "\n",
    "For eg - \n",
    " \n",
    "Sentence = Computer is electronic device\n",
    "\n",
    "preprocessed_dev = Computer electronic device\n",
    "\n",
    "    w1 = Computer \n",
    "    w2 = electronin\n",
    "    w3 = device\n",
    "\n",
    "Result = \n",
    "    # tfidf(w1)*glove(w1) + tfidf(w2)*glove(w2) + tfidf(w3)*glove(w3) / (tfidf(w1)+tfidf(w2)+ tfdif(w3))\n",
    "\n",
    "\n",
    "### `` References:``\n",
    "* https://machinelearningmastery.com/develop-word-embeddings-python-gensim/\n",
    "* https://github.com/makkarss929/KNN-on-Donor-Choose-Dataset/blob/master/KNN_SUBMIT.ipynb"
   ]
  },
  {
   "cell_type": "markdown",
   "metadata": {},
   "source": [
    "Saving ``glove file`` in ``word2vec`` format"
   ]
  },
  {
   "cell_type": "code",
   "execution_count": null,
   "metadata": {},
   "outputs": [],
   "source": [
    "from gensim.scripts.glove2word2vec import glove2word2vec\n",
    "glove_input_file = 'glove.840B.300d.txt'\n",
    "word2vec_output_file = 'glove.840B.300d.txt.word2vec'\n",
    "glove2word2vec(glove_input_file, word2vec_output_file)"
   ]
  },
  {
   "cell_type": "markdown",
   "metadata": {},
   "source": [
    "Loading ``glove`` model using ``gensim``"
   ]
  },
  {
   "cell_type": "code",
   "execution_count": 33,
   "metadata": {
    "scrolled": true
   },
   "outputs": [],
   "source": [
    "from gensim.models import KeyedVectors\n",
    "# load the Stanford GloVe model\n",
    "filename = 'glove.840B.300d.txt.word2vec'\n",
    "glove_w2v = KeyedVectors.load_word2vec_format(filename, binary=False)"
   ]
  },
  {
   "cell_type": "markdown",
   "metadata": {},
   "source": [
    "#### TFIDF Weighted ``Word2Vec``"
   ]
  },
  {
   "cell_type": "code",
   "execution_count": 29,
   "metadata": {},
   "outputs": [],
   "source": [
    "from sklearn.feature_extraction.text import TfidfVectorizer"
   ]
  },
  {
   "cell_type": "code",
   "execution_count": 30,
   "metadata": {},
   "outputs": [],
   "source": [
    "tfidf_model = TfidfVectorizer()\n",
    "tfidf_model.fit(preprocessed_names)\n",
    "# we are converting a dictionary with word as a key, and the idf as a value\n",
    "dictionary = dict(zip(tfidf_model.get_feature_names(), list(tfidf_model.idf_)))\n",
    "tfidf_words = set(tfidf_model.get_feature_names())"
   ]
  },
  {
   "cell_type": "markdown",
   "metadata": {},
   "source": [
    "``Tfidf with glove`` take ``10 hrs`` to execute"
   ]
  },
  {
   "cell_type": "code",
   "execution_count": null,
   "metadata": {
    "scrolled": true
   },
   "outputs": [],
   "source": [
    "# Compute tfidf weighted word2vec for each point\n",
    "preprocessed_names_tfidf_wt_w2v_vectors = []\n",
    "for sentence in tqdm(preprocessed_names): # for each sentence\n",
    "    vector = np.zeros(300) # as word vectors are of zero length\n",
    "    tf_idf_weight =0; # num of words with a valid vector in the sentence\n",
    "    for word in sentence.split(): # for each word in a sentence\n",
    "        if (word in list(glove_w2v.wv.vocab)) and (word in tfidf_words):\n",
    "            vec = glove_w2v[word] # getting the vector for each word\n",
    "            # here we are multiplying idf value(dictionary[word]) and the tf value((sentence.count(word)/len(sentence.split())))\n",
    "            tf_idf = dictionary[word]*(sentence.count(word)/len(sentence.split())) # getting the tfidf value for each word\n",
    "            vector += (vec * tf_idf) # calculating tfidf weighted w2v\n",
    "            tf_idf_weight += tf_idf\n",
    "    if tf_idf_weight != 0:\n",
    "        vector /= tf_idf_weight\n",
    "    preprocessed_names_tfidf_wt_w2v_vectors.append(vector)\n",
    "\n",
    "print(len(preprocessed_names_tfidf_wt_w2v_vectors))\n",
    "print(len(preprocessed_names_tfidf_wt_w2v_vectors[0]))"
   ]
  },
  {
   "cell_type": "markdown",
   "metadata": {},
   "source": [
    "Saving ``Text embeddings`` to numpy file"
   ]
  },
  {
   "cell_type": "code",
   "execution_count": null,
   "metadata": {
    "scrolled": true
   },
   "outputs": [],
   "source": [
    "np.save('text_embeddings.npy', preprocessed_names_tfidf_wt_w2v_vectors, allow_pickle=True)"
   ]
  },
  {
   "cell_type": "code",
   "execution_count": 2,
   "metadata": {},
   "outputs": [],
   "source": [
    "text_embeddings = np.load('text_embeddings.npy', allow_pickle=True)"
   ]
  },
  {
   "cell_type": "code",
   "execution_count": 3,
   "metadata": {},
   "outputs": [],
   "source": [
    "text_embeddings = torch.from_numpy(text_embeddings)"
   ]
  },
  {
   "cell_type": "code",
   "execution_count": 4,
   "metadata": {},
   "outputs": [],
   "source": [
    "image_embeddings = np.load('image_embeddings.npy', allow_pickle=True)"
   ]
  },
  {
   "cell_type": "code",
   "execution_count": 5,
   "metadata": {},
   "outputs": [],
   "source": [
    "image_embeddings = torch.from_numpy(image_embeddings)"
   ]
  },
  {
   "cell_type": "markdown",
   "metadata": {},
   "source": [
    "``Part 3(b): `` Label Embeddings (Semantic Similarity)\n",
    "---------------------------\n",
    "* ``Label Embeddings`` used for ``Semantic Similarity``\n",
    "* ``One hot encoding`` labels for compution of ``class level similarity``\n",
    "* Using ``InferSent : Facebook's pretrained model`` for compution of ``semantic similarity``\n",
    "* Downloading ``InferSent1.pkl`` from https://dl.fbaipublicfiles.com/infersent/infersent1.pkl \n",
    "* ``InferSent1.pkl`` contains pretrained weights\n",
    "* Loading Model using pretrained weights,creating vocab and encoding\n",
    "* Returns ``4096 dim`` of each label\n",
    "\n",
    "\n",
    "### ``References :``\n",
    "* https://github.com/facebookresearch/InferSent"
   ]
  },
  {
   "cell_type": "code",
   "execution_count": 6,
   "metadata": {},
   "outputs": [],
   "source": [
    "filename = 'training.csv'\n",
    "mapping_csv = pd.read_csv(filename)"
   ]
  },
  {
   "cell_type": "markdown",
   "metadata": {},
   "source": [
    "Create a ``set`` of ``labels`` and ``sorting`` it alphabetically"
   ]
  },
  {
   "cell_type": "code",
   "execution_count": 7,
   "metadata": {},
   "outputs": [],
   "source": [
    "# create a set of labels\n",
    "labels = set()\n",
    "for i in range(len(mapping_csv)):\n",
    "\t# convert spaced separated tags into an array of tags\n",
    "\ttags = mapping_csv['classes'][i].split('<')\n",
    "\t# add tags to the set of known labels\n",
    "\tlabels.update(tags)"
   ]
  },
  {
   "cell_type": "code",
   "execution_count": 8,
   "metadata": {},
   "outputs": [],
   "source": [
    "# convert set of labels to a list to list\n",
    "labels = list(labels)\n",
    "# order set alphabetically\n",
    "labels.sort()"
   ]
  },
  {
   "cell_type": "code",
   "execution_count": 9,
   "metadata": {},
   "outputs": [
    {
     "data": {
      "text/plain": [
       "67"
      ]
     },
     "execution_count": 9,
     "metadata": {},
     "output_type": "execute_result"
    }
   ],
   "source": [
    "len(labels)"
   ]
  },
  {
   "cell_type": "markdown",
   "metadata": {},
   "source": [
    "``Note :`` There are 67 unique labels"
   ]
  },
  {
   "cell_type": "markdown",
   "metadata": {},
   "source": [
    "### ``Labels mapping``\n",
    "* Each ``label`` is assigned a ``unique number``. "
   ]
  },
  {
   "cell_type": "code",
   "execution_count": 10,
   "metadata": {},
   "outputs": [],
   "source": [
    "# dict that maps labels to integers, and the reverse\n",
    "labels_map = {labels[i]:i for i in range(len(labels))}\n",
    "inv_labels_map = {i:labels[i] for i in range(len(labels))}"
   ]
  },
  {
   "cell_type": "markdown",
   "metadata": {},
   "source": [
    "### Part 3(a): ``One hot encoding`` for class level similarity"
   ]
  },
  {
   "cell_type": "code",
   "execution_count": 11,
   "metadata": {},
   "outputs": [],
   "source": [
    "def one_hot_encode(tags, mapping):\n",
    "\t# create empty vector\n",
    "\tencoding = np.zeros(len(mapping), dtype='uint8')\n",
    "\t# mark 1 for each tag in the vector\n",
    "\tfor tag in tags:\n",
    "\t\tencoding[mapping[tag]] = 1\n",
    "\treturn encoding"
   ]
  },
  {
   "cell_type": "markdown",
   "metadata": {},
   "source": [
    "Showing ``Example``"
   ]
  },
  {
   "cell_type": "code",
   "execution_count": 12,
   "metadata": {},
   "outputs": [],
   "source": [
    "tags = mapping_csv['classes'][65].split('<')"
   ]
  },
  {
   "cell_type": "code",
   "execution_count": 13,
   "metadata": {},
   "outputs": [
    {
     "data": {
      "text/plain": [
       "array([0, 0, 0, 0, 1, 0, 0, 0, 0, 0, 0, 0, 0, 0, 0, 0, 0, 0, 0, 0, 0, 0,\n",
       "       0, 0, 0, 0, 0, 0, 0, 0, 0, 0, 0, 1, 0, 0, 1, 0, 0, 0, 0, 0, 0, 0,\n",
       "       0, 0, 0, 0, 0, 0, 0, 0, 0, 0, 0, 0, 0, 0, 0, 0, 0, 0, 0, 0, 0, 0,\n",
       "       0], dtype=uint8)"
      ]
     },
     "execution_count": 13,
     "metadata": {},
     "output_type": "execute_result"
    }
   ],
   "source": [
    "one_hot_encode(tags,labels_map)"
   ]
  },
  {
   "cell_type": "code",
   "execution_count": 14,
   "metadata": {},
   "outputs": [],
   "source": [
    "one_hot_labels = []\n",
    "for i in range(len(mapping_csv)):\n",
    "    tags = mapping_csv['classes'][i].split('<')\n",
    "    one_hot_labels.append(one_hot_encode(tags,labels_map))"
   ]
  },
  {
   "cell_type": "code",
   "execution_count": 15,
   "metadata": {},
   "outputs": [],
   "source": [
    "one_hot_labels = torch.from_numpy(np.array(one_hot_labels))"
   ]
  },
  {
   "cell_type": "code",
   "execution_count": 16,
   "metadata": {},
   "outputs": [
    {
     "data": {
      "text/plain": [
       "torch.Size([65714, 67])"
      ]
     },
     "execution_count": 16,
     "metadata": {},
     "output_type": "execute_result"
    }
   ],
   "source": [
    "one_hot_labels.size()"
   ]
  },
  {
   "cell_type": "markdown",
   "metadata": {},
   "source": [
    "``Labels embeddings``\n",
    "----------------------\n",
    "* Constructing label embedding using ``InferSent : Facebook's Pretrained Model``\n",
    "* Returns embedding of 4096 dimension."
   ]
  },
  {
   "cell_type": "markdown",
   "metadata": {},
   "source": [
    "Loading ``InferSent``"
   ]
  },
  {
   "cell_type": "code",
   "execution_count": 17,
   "metadata": {},
   "outputs": [],
   "source": [
    "import InferSent"
   ]
  },
  {
   "cell_type": "code",
   "execution_count": 18,
   "metadata": {},
   "outputs": [],
   "source": [
    "from InferSent import models"
   ]
  },
  {
   "cell_type": "code",
   "execution_count": 19,
   "metadata": {},
   "outputs": [
    {
     "name": "stderr",
     "output_type": "stream",
     "text": [
      "[nltk_data] Downloading package punkt to C:\\Users\\Tarun\n",
      "[nltk_data]     Makkar\\AppData\\Roaming\\nltk_data...\n",
      "[nltk_data]   Package punkt is already up-to-date!\n"
     ]
    },
    {
     "data": {
      "text/plain": [
       "True"
      ]
     },
     "execution_count": 19,
     "metadata": {},
     "output_type": "execute_result"
    }
   ],
   "source": [
    "import nltk\n",
    "nltk.download('punkt')"
   ]
  },
  {
   "cell_type": "markdown",
   "metadata": {},
   "source": [
    "Loading ``InferSent1.pkl`` : pretrained weights "
   ]
  },
  {
   "cell_type": "code",
   "execution_count": 20,
   "metadata": {},
   "outputs": [
    {
     "data": {
      "text/plain": [
       "<All keys matched successfully>"
      ]
     },
     "execution_count": 20,
     "metadata": {},
     "output_type": "execute_result"
    }
   ],
   "source": [
    "# Load model\n",
    "#from models import InferSent\n",
    "model_version = 1\n",
    "MODEL_PATH = \"encoder/infersent%s.pkl\" % model_version\n",
    "params_model = {'bsize': 64, 'word_emb_dim': 300, 'enc_lstm_dim': 2048,\n",
    "                'pool_type': 'max', 'dpout_model': 0.0, 'version': model_version}\n",
    "model = models.InferSent(params_model)\n",
    "model.load_state_dict(torch.load(MODEL_PATH))"
   ]
  },
  {
   "cell_type": "code",
   "execution_count": 21,
   "metadata": {},
   "outputs": [],
   "source": [
    "# Keep it on CPU or put it on GPU\n",
    "use_cuda = False\n",
    "model = model.cuda() if use_cuda else model"
   ]
  },
  {
   "cell_type": "markdown",
   "metadata": {},
   "source": [
    "``InferSent`` uses ``glove`` file"
   ]
  },
  {
   "cell_type": "code",
   "execution_count": 22,
   "metadata": {},
   "outputs": [],
   "source": [
    "# If infersent1 -> use GloVe embeddings. If infersent2 -> use InferSent embeddings.\n",
    "W2V_PATH = 'glove.840B.300d.txt' if model_version == 1 else 'fastText/crawl-300d-2M.vec'\n",
    "model.set_w2v_path(W2V_PATH)"
   ]
  },
  {
   "cell_type": "markdown",
   "metadata": {},
   "source": [
    "Updating ``Vocabulary`` using ``Labels``"
   ]
  },
  {
   "cell_type": "code",
   "execution_count": 23,
   "metadata": {},
   "outputs": [],
   "source": [
    "sentences = labels"
   ]
  },
  {
   "cell_type": "code",
   "execution_count": 24,
   "metadata": {},
   "outputs": [
    {
     "name": "stdout",
     "output_type": "stream",
     "text": [
      "Found 76(/76) words with w2v vectors\n",
      "Vocab size : 76\n"
     ]
    }
   ],
   "source": [
    "# Load embeddings of K most frequent words\n",
    "model.build_vocab(sentences,tokenize=True)"
   ]
  },
  {
   "cell_type": "code",
   "execution_count": 25,
   "metadata": {},
   "outputs": [
    {
     "data": {
      "text/plain": [
       "['accessories']"
      ]
     },
     "execution_count": 25,
     "metadata": {},
     "output_type": "execute_result"
    }
   ],
   "source": [
    "[inv_labels_map[0]]"
   ]
  },
  {
   "cell_type": "markdown",
   "metadata": {},
   "source": [
    "Showing example of `` accessories``"
   ]
  },
  {
   "cell_type": "code",
   "execution_count": 26,
   "metadata": {},
   "outputs": [
    {
     "data": {
      "text/plain": [
       "array([ 0.11502168, -0.06020666, -0.0304451 , ..., -0.03926746,\n",
       "       -0.03814262, -0.0289226 ], dtype=float32)"
      ]
     },
     "execution_count": 26,
     "metadata": {},
     "output_type": "execute_result"
    }
   ],
   "source": [
    "model.encode([inv_labels_map[0]])[0]"
   ]
  },
  {
   "cell_type": "markdown",
   "metadata": {},
   "source": [
    "### ``Part 3(b):``Adjacency Matrix (Semantic Similarity)\n",
    "* Constructing Adjacency matrix for ``semantic graph``\n",
    "* Taking each ``label Embeddings`` as node and ``edge weight`` is cosine distance between 2 nodes\n"
   ]
  },
  {
   "cell_type": "code",
   "execution_count": 27,
   "metadata": {
    "scrolled": false
   },
   "outputs": [
    {
     "data": {
      "text/plain": [
       "(67, 4096)"
      ]
     },
     "execution_count": 27,
     "metadata": {},
     "output_type": "execute_result"
    }
   ],
   "source": [
    "emb = model.encode(labels,tokenize = True)\n",
    "\n",
    "emb.shape"
   ]
  },
  {
   "cell_type": "code",
   "execution_count": 28,
   "metadata": {},
   "outputs": [],
   "source": [
    "A = np.zeros((len(labels),len(labels)))\n",
    "for i in range(A.shape[0]):\n",
    "    for j in range(A.shape[1]):\n",
    "        A[i][j] = cosine(emb[i],emb[j])"
   ]
  },
  {
   "cell_type": "code",
   "execution_count": 29,
   "metadata": {},
   "outputs": [
    {
     "name": "stdout",
     "output_type": "stream",
     "text": [
      "[[0.         0.65449536 0.38661617 ... 0.41142404 0.46810478 0.63951567]\n",
      " [0.65449536 0.         0.61885324 ... 0.62294078 0.60166988 0.34177005]\n",
      " [0.38661617 0.61885324 0.         ... 0.10404348 0.32019562 0.62520388]\n",
      " ...\n",
      " [0.41142404 0.62294078 0.10404348 ... 0.         0.30119473 0.61426258]\n",
      " [0.46810478 0.60166988 0.32019562 ... 0.30119473 0.         0.59520289]\n",
      " [0.63951567 0.34177005 0.62520388 ... 0.61426258 0.59520289 0.        ]]\n"
     ]
    }
   ],
   "source": [
    "print(A)"
   ]
  },
  {
   "cell_type": "markdown",
   "metadata": {},
   "source": [
    "``Part 2 :`` Defining Model Architecture\n",
    "----------------\n",
    "* Implementing ``Image Tower`` and ``Text Tower``.\n",
    "\n",
    "* ``The image tower`` consists of ``5 hidden layers`` of ``512 hidden units`` each.\n",
    "\n",
    "* ``Text tower consists`` of ``2 hidden layers`` of ``512 hidden units`` each.  \n",
    "* A ``dropout`` of ``0.15`` is used between all hidden layers of ``both towers``. \n",
    "* ``Both Towers`` consists of ``RELU`` non-linearity .\n",
    "* ``5th Layer`` of both towers should have ``same dimension`` as it ``shared hidden layer.``\n",
    "* The network is trained using the ``RMSProp optimizer`` with a ``learning rate`` of ``1.6192e-05``and  ``momentum``  set  to  ``0.9``  with  random  batches  of  1024 for 250,000 steps.  "
   ]
  },
  {
   "cell_type": "markdown",
   "metadata": {},
   "source": [
    "``Shared Hidden Layer``(Late Fusion)\n",
    "----------------------------------\n",
    "* Last layer of both Towers is ``512``units.\n",
    "* ``Concatenating`` Last hidden Layers from ``both towers``.\n",
    "* After ``Concatenation`` it becomes ``1024``.\n",
    "* Then adding ``Extra Layer`` on ``concatenated Layer`` of ``512`` units."
   ]
  },
  {
   "cell_type": "code",
   "execution_count": 30,
   "metadata": {},
   "outputs": [],
   "source": [
    "import torch.nn.functional as F"
   ]
  },
  {
   "cell_type": "code",
   "execution_count": 31,
   "metadata": {},
   "outputs": [],
   "source": [
    "class HUSE(nn.Module):\n",
    "    def __init__(self):\n",
    "        super(HUSE, self).__init__()\n",
    "        \n",
    "        # Image Tower\n",
    "        self.image_tower = nn.Sequential(\n",
    "            # 1st Layer \n",
    "            nn.Linear(512,512),  # (N,512) -> (N,512)\n",
    "            nn.Dropout(0.15),\n",
    "            nn.ReLU(),\n",
    "            # 2nd Layer \n",
    "            nn.Linear(512,512),  # (N,512) -> (N,512)\n",
    "            nn.Dropout(0.15),\n",
    "            nn.ReLU(),\n",
    "            # 3rd Layer\n",
    "            nn.Linear(512,512),  # (N,512) -> (N,512)\n",
    "            nn.Dropout(0.15),\n",
    "            nn.ReLU(),\n",
    "            # 4th Layer\n",
    "            nn.Linear(512,512),  # (N,512) -> (N,512)\n",
    "            nn.Dropout(0.15),\n",
    "            nn.ReLU(),\n",
    "            # L2 Normalization \n",
    "            # nn.LayerNorm(512)\n",
    "        \n",
    "            )\n",
    "        \n",
    "        # Text Tower\n",
    "        self.text_tower = nn.Sequential(\n",
    "            # 1st Layer\n",
    "            nn.Linear(300,512),  # (N,300) -> (N,512)\n",
    "            nn.Dropout(0.15),\n",
    "            nn.ReLU(),\n",
    "            # L2 Normalization\n",
    "            # nn.LayerNorm(512)\n",
    "            )  \n",
    "        \n",
    "        self.shared_hidden_layer = nn.Sequential(\n",
    "            # Last Shared Layer\n",
    "            nn.Linear(1024,512),\n",
    "            nn.Dropout(0.15),\n",
    "            nn.ReLU(),\n",
    "            )\n",
    "        self.shared_output_layer = nn.Sequential(\n",
    "            nn.Linear(512,67),\n",
    "            nn.Dropout(0.15),\n",
    "            nn.ReLU(),\n",
    "            )\n",
    "        \n",
    "        self.softmax = nn.Softmax(dim=0)\n",
    "        \n",
    "    # Cross Modal Similarity\n",
    "    \n",
    "    \n",
    "        \n",
    "    # Cross entropy Similarity \n",
    "    def cross_entropy(self,predictions, targets):\n",
    "        # Converting into numpy\n",
    "        \n",
    "        predictions = predictions.detach().numpy()\n",
    "        targets = targets.detach().numpy()\n",
    "        \n",
    "        N = predictions.shape[0]\n",
    "        ce = -np.sum(targets * np.log(predictions)) / N\n",
    "        \n",
    "        # Converting back to tensor\n",
    "        ce = np.array(ce)\n",
    "        ce = torch.from_numpy(ce)\n",
    "        return ce\n",
    "    \n",
    "    # Semantic Similarity\n",
    "    def semantic_similarity(self,phi,A):\n",
    "        \n",
    "        # Converting to numpy array\n",
    "        phi = phi.detach().numpy()\n",
    "        \n",
    "        \n",
    "        D = np.zeros(A.shape)\n",
    "        sigma = np.zeros(A.shape)\n",
    "        threshold = 1\n",
    "\n",
    "        for m in tqdm(range(phi.shape[0])):\n",
    "            for i in range(phi.shape[1]):\n",
    "                for n in range(phi.shape[0]):\n",
    "                    for j in range(phi.shape[1]):\n",
    "                        D[i][j] = (cosine(phi[m][i],phi[n][j]))\n",
    "                        sigma[i][j] = 1.0 if (A[i][j]<threshold and D[i][j] < threshold) else 0.0\n",
    "\n",
    "        N = phi.shape[0]\n",
    "        result =  np.sum(sigma*((D - A)**2))/(N**2)\n",
    "        result = np.array(result)\n",
    "        \n",
    "        result = torch.from_numpy(result)\n",
    "        \n",
    "        return result\n",
    "        \n",
    "            \n",
    "    def forward(self,x1,x2):\n",
    "        #Calling Image Tower\n",
    "        x1 = self.image_tower(x1)\n",
    "        # L2 Normalization \n",
    "        x1 = F.normalize(x1)\n",
    "        \n",
    "        #Calling Text Tower\n",
    "        x2 = self.text_tower(x2)\n",
    "        # L2 normalization\n",
    "        x2 = F.normalize(x2)\n",
    "        \n",
    "        \n",
    "        # Late Fusion \n",
    "        x = torch.cat((x1,x2),dim = 1)\n",
    "        # Shared hidden layer\n",
    "        x = self.shared_hidden_layer(x)\n",
    "        # Unnormalized output layer\n",
    "        x = self.shared_output_layer(x)\n",
    "        \n",
    "        # Softmax on Unnormalized output layer\n",
    "        # x = F.softmax(x, dim=0)\n",
    "        x = self.softmax(x)\n",
    "        return x"
   ]
  },
  {
   "cell_type": "code",
   "execution_count": 32,
   "metadata": {},
   "outputs": [],
   "source": [
    "net = HUSE()"
   ]
  },
  {
   "cell_type": "markdown",
   "metadata": {},
   "source": [
    "``Part 3(a):`` Class level similarity\n",
    "------\n",
    "* Loading ``BinaryCrossEntropyLoss`` from torch.nn\n",
    "* Using it for calculating ``loss`` between ``One hot labels`` and ``predicted labels.``\n",
    "\n",
    "\n",
    "``Part 3(c):`` Cross Modal gap\n",
    "-----\n",
    "* Using `` torch.nn.CosineSimilarity`` for calculating Cross Modal gap.\n",
    "* As we now,\n",
    "\n",
    "     ### cosine distance = (1 - cosine similarity) \n",
    "    \n",
    "    \n",
    " \n",
    "\n",
    "* Using ``above equation``, we calculate this loss"
   ]
  },
  {
   "cell_type": "markdown",
   "metadata": {},
   "source": [
    "Loading ``Loss functions`` and ``Optimizers``"
   ]
  },
  {
   "cell_type": "code",
   "execution_count": 33,
   "metadata": {},
   "outputs": [],
   "source": [
    "loss_fn_1 = nn.BCELoss()\n",
    "optimizer = torch.optim.RMSprop(net.parameters(), lr=1.6192e-05, momentum =0.9)"
   ]
  },
  {
   "cell_type": "markdown",
   "metadata": {},
   "source": [
    "#### Loading ``weights`` of loss function:\n",
    "* ``alpha`` for ``class level similarity``\n",
    "* ``beta`` for ``semantic similarity ``\n",
    "* ``gamma`` for ``cross modal gap``\n",
    "\n",
    "``Part 3:`` Total Loss Function\n",
    "----\n",
    "* Weighted Average of all 3 losses:\n",
    "         Total loss = alpha * class_level_similarity  + beta * semantic_similarity + gamma * cross_modal_gap"
   ]
  },
  {
   "cell_type": "code",
   "execution_count": 34,
   "metadata": {},
   "outputs": [],
   "source": [
    "alpha = 10\n",
    "gamma = 1\n",
    "beta = 2"
   ]
  },
  {
   "cell_type": "markdown",
   "metadata": {},
   "source": [
    "#### ``Note`` : Giving more ``weightage`` to ``class level similarity``"
   ]
  },
  {
   "cell_type": "markdown",
   "metadata": {},
   "source": [
    "### Intializing few ``parameters``:\n",
    "* Number of epochs.\n",
    "* Batch_size"
   ]
  },
  {
   "cell_type": "markdown",
   "metadata": {},
   "source": [
    "### ``Training`` our Model: \n",
    "    # Number of epochs = 1000\n",
    "    # Batch_size = 128"
   ]
  },
  {
   "cell_type": "code",
   "execution_count": 36,
   "metadata": {
    "scrolled": false
   },
   "outputs": [
    {
     "name": "stdout",
     "output_type": "stream",
     "text": [
      "Epoch: 199/1000,Total Loss : 1.92 ,Class Similarity Loss : 0.18, Cross Modal Loss: 0.17\n"
     ]
    },
    {
     "data": {
      "image/png": "[encoded data removed]",
      "text/plain": [
       "<Figure size 432x288 with 1 Axes>"
      ]
     },
     "metadata": {
      "needs_background": "light"
     },
     "output_type": "display_data"
    },
    {
     "name": "stdout",
     "output_type": "stream",
     "text": [
      "Epoch: 399/1000,Total Loss : 1.85 ,Class Similarity Loss : 0.17, Cross Modal Loss: 0.17\n"
     ]
    },
    {
     "data": {
      "image/png": "[encoded data removed]",
      "text/plain": [
       "<Figure size 432x288 with 1 Axes>"
      ]
     },
     "metadata": {
      "needs_background": "light"
     },
     "output_type": "display_data"
    },
    {
     "name": "stdout",
     "output_type": "stream",
     "text": [
      "Epoch: 599/1000,Total Loss : 1.82 ,Class Similarity Loss : 0.17, Cross Modal Loss: 0.16\n"
     ]
    },
    {
     "data": {
      "image/png": "[encoded data removed]",
      "text/plain": [
       "<Figure size 432x288 with 1 Axes>"
      ]
     },
     "metadata": {
      "needs_background": "light"
     },
     "output_type": "display_data"
    },
    {
     "name": "stdout",
     "output_type": "stream",
     "text": [
      "Epoch: 799/1000,Total Loss : 1.79 ,Class Similarity Loss : 0.16, Cross Modal Loss: 0.16\n"
     ]
    },
    {
     "data": {
      "image/png": "[encoded data removed]",
      "text/plain": [
       "<Figure size 432x288 with 1 Axes>"
      ]
     },
     "metadata": {
      "needs_background": "light"
     },
     "output_type": "display_data"
    },
    {
     "name": "stdout",
     "output_type": "stream",
     "text": [
      "Epoch: 999/1000,Total Loss : 1.78 ,Class Similarity Loss : 0.16, Cross Modal Loss: 0.16\n"
     ]
    },
    {
     "data": {
      "image/png": "[encoded data removed]",
      "text/plain": [
       "<Figure size 432x288 with 1 Axes>"
      ]
     },
     "metadata": {
      "needs_background": "light"
     },
     "output_type": "display_data"
    }
   ],
   "source": [
    "n_epochs = 1000\n",
    "batch_size = 128\n",
    "loss_arr = []\n",
    "loss_epoch_arr = []\n",
    "X = image_embeddings\n",
    "\n",
    "for epoch in range(n_epochs):\n",
    "\n",
    "    # X is a torch Variable\n",
    "    permutation = torch.randperm(X.size()[0])\n",
    "\n",
    "    for i in range(0,X.size()[0], batch_size):\n",
    "        \n",
    "\n",
    "        indices = permutation[i:i+batch_size]\n",
    "        \n",
    "        image_embeddings, text_embeddings,one_hot_labels = image_embeddings[indices],text_embeddings[indices],one_hot_labels[indices]\n",
    "        \n",
    "        #move inputs to gpu\n",
    "        \n",
    "        #inputs, labels = inputs.to(device), labels.to(device)\n",
    "\n",
    "        # zero the parameter gradients\n",
    "        optimizer.zero_grad()\n",
    "\n",
    "        phi_I = net.image_tower(image_embeddings)\n",
    "\n",
    "        phi_T = net.text_tower(text_embeddings.float())\n",
    "\n",
    "\n",
    "        phi = net.shared_hidden_layer(torch.cat((phi_I,phi_T),dim = 1))\n",
    "\n",
    "\n",
    "        z = net.shared_output_layer(phi)\n",
    "\n",
    "        outputs = net.softmax(z)\n",
    "\n",
    "        loss_class_similarity = loss_fn_1(outputs,one_hot_labels.float())\n",
    "\n",
    "        #loss_semantic_similarity = net.semantic_similarity(z,A)\n",
    "\n",
    "        loss_cross_modal_gap = torch.sum(1 - F.cosine_similarity(phi_I,phi_T))/phi_I.size(0)\n",
    "\n",
    "        loss = (alpha*loss_class_similarity + gamma*loss_cross_modal_gap )\n",
    "\n",
    "        loss.backward()\n",
    "\n",
    "        optimizer.step()\n",
    "        \n",
    "        loss_arr.append(loss.item())\n",
    "\n",
    "    loss_epoch_arr.append(loss.item())\n",
    "\n",
    "    \n",
    "    if (epoch+1)%200 == 0:\n",
    "        print('Epoch: %d/%d,Total Loss : %0.2f ,Class Similarity Loss : %0.2f, Cross Modal Loss: %0.2f' % (epoch,n_epochs ,loss,loss_class_similarity,loss_cross_modal_gap))\n",
    "\n",
    "        plt.plot(loss_epoch_arr)\n",
    "        plt.xlabel(\"epochs\")\n",
    "        plt.ylabel(\"loss\")\n",
    "        plt.title(\"\")\n",
    "        plt.show();"
   ]
  },
  {
   "cell_type": "markdown",
   "metadata": {},
   "source": [
    "Only taking ``50 points`` to calculate ``semantic similarity``"
   ]
  },
  {
   "cell_type": "markdown",
   "metadata": {},
   "source": [
    "``Part 3(b) :`` Semantic Similarity\n",
    "---\n",
    "* ``Showing example`` to compute ``semantic similarity`` on ``50 points``\n",
    "\n",
    "\n",
    "### ``Note :``\n",
    "\n",
    "We are not taking ``semantic loss`` in ``training`` because it takes ``lot of time`` to compute.For ``1 batch(128 points)`` it takes ``1 hr``."
   ]
  },
  {
   "cell_type": "code",
   "execution_count": 84,
   "metadata": {},
   "outputs": [],
   "source": [
    "out_I = net.image_tower(image_embeddings[:50,:])        \n",
    "out_T = net.text_tower(text_embeddings[:50,:].float())    \n",
    "out = net.shared_hidden_layer(torch.cat((out_I,out_T),dim = 1))\n",
    "z = net.shared_output_layer(out)\n",
    "outputs = net.softmax(z)"
   ]
  },
  {
   "cell_type": "code",
   "execution_count": 85,
   "metadata": {},
   "outputs": [],
   "source": [
    "b = list(product(range(z.size(0)),range(z.size(1)),range(z.size(0)),range(z.size(1))))"
   ]
  },
  {
   "cell_type": "code",
   "execution_count": 95,
   "metadata": {},
   "outputs": [],
   "source": [
    "def semantic_similarity(z,A):\n",
    "    # This Code calculates \n",
    "    \n",
    "    phi = z.detach().numpy()\n",
    "    \n",
    "    D = np.zeros((50,67,50,67))\n",
    "    R = np.zeros((50,67,50,67))\n",
    "    sigma = np.zeros((50,67,50,67))\n",
    "    threshold = 2.0\n",
    "    \n",
    "    for m,i,n,j in b:\n",
    "        D[m][i][n][j] = cosine(phi[m][i],phi[n][j])\n",
    "        R[m][i][n][j] = np.power((D[m][i][n][j] - A[i][j]),2)\n",
    "        sigma[m][i][n][j] = 1.0 if ((A[i][j]< threshold) and (D[m][i][n][j] < threshold)) else 0.0\n",
    "    \n",
    "    return (np.sum(sigma*R))/(50**2)\n",
    "\n",
    "loss = semantic_similarity(z,A)"
   ]
  },
  {
   "cell_type": "code",
   "execution_count": 97,
   "metadata": {},
   "outputs": [
    {
     "name": "stdout",
     "output_type": "stream",
     "text": [
      "4.34\n"
     ]
    }
   ],
   "source": [
    "print(loss)"
   ]
  },
  {
   "cell_type": "markdown",
   "metadata": {},
   "source": [
    "### Showing ``accuracy`` on 1 batch i.e 128 points"
   ]
  },
  {
   "cell_type": "code",
   "execution_count": 37,
   "metadata": {},
   "outputs": [],
   "source": [
    "out_I = net.image_tower(image_embeddings)        \n",
    "out_T = net.text_tower(text_embeddings.float())    \n",
    "out = net.shared_hidden_layer(torch.cat((out_I,out_T),dim = 1))\n",
    "z = net.shared_output_layer(out)\n",
    "outputs = net.softmax(z)\n",
    "truth_labels = one_hot_labels"
   ]
  },
  {
   "cell_type": "code",
   "execution_count": 38,
   "metadata": {},
   "outputs": [],
   "source": [
    "def accuracy(predicted_values,truth_values):\n",
    "    count = 0\n",
    "    for x,y in zip(truth_values,predicted_values):\n",
    "        x = torch.argsort(x)[-3:]\n",
    "        x = torch.sort(x).values\n",
    "        y = torch.argsort(y)[-3:]\n",
    "        y = torch.sort(y).values\n",
    "        \n",
    "        if torch.sum(x == y) == 3:\n",
    "            count +=3\n",
    "        elif torch.sum(x == y) == 2:\n",
    "            count +=2\n",
    "        elif torch.sum(x == y) == 1:\n",
    "            count +=1\n",
    "        \n",
    "    acc = (count)/(truth_values.size(0)*3)\n",
    "    return acc"
   ]
  },
  {
   "cell_type": "code",
   "execution_count": 39,
   "metadata": {},
   "outputs": [
    {
     "data": {
      "text/plain": [
       "0.5442708333333334"
      ]
     },
     "execution_count": 39,
     "metadata": {},
     "output_type": "execute_result"
    }
   ],
   "source": [
    "accuracy(outputs,truth_labels)"
   ]
  },
  {
   "cell_type": "markdown",
   "metadata": {},
   "source": [
    "``Conclusion:``\n",
    "-----\n",
    "* Total loss is reduce from 3.5 to 1.69\n",
    "* Cross modal gap is 0.15.\n",
    "* Class level similarity loss is 0.16.\n",
    "* Accuracy is 62.5"
   ]
  }
 ],
 "metadata": {
  "kernelspec": {
   "display_name": "Python 3.7.3 64-bit ('keras-gpu': conda)",
   "language": "python",
   "name": "python37364bitkerasgpucondac15bbfaa9e7342f1a6aaed5bedd28ed1"
  },
  "language_info": {
   "codemirror_mode": {
    "name": "ipython",
    "version": 3
   },
   "file_extension": ".py",
   "mimetype": "text/x-python",
   "name": "python",
   "nbconvert_exporter": "python",
   "pygments_lexer": "ipython3",
   "version": "3.7.3"
  }
 },
 "nbformat": 4,
 "nbformat_minor": 2
}
